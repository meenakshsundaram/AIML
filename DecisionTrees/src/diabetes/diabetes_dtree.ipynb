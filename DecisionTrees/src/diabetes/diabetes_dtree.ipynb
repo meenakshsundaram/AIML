{
 "cells": [
  {
   "cell_type": "code",
   "execution_count": 102,
   "metadata": {},
   "outputs": [],
   "source": [
    "# Constants\n",
    "TRAIN_FRACTION = 0.7\n",
    "RANDOM_SEED = 86720"
   ]
  },
  {
   "cell_type": "code",
   "execution_count": 103,
   "metadata": {},
   "outputs": [],
   "source": [
    "import pandas as pd\n",
    "from sklearn import tree\n",
    "import matplotlib.pyplot as plt\n",
    "from sklearn.tree import DecisionTreeClassifier\n",
    "from sklearn import metrics"
   ]
  },
  {
   "cell_type": "code",
   "execution_count": 104,
   "metadata": {},
   "outputs": [],
   "source": [
    "df = pd.read_csv(r\"..\\..\\data\\diabetes\\diabetes.csv\")"
   ]
  },
  {
   "cell_type": "code",
   "execution_count": 105,
   "metadata": {},
   "outputs": [
    {
     "data": {
      "text/html": [
       "<div>\n",
       "<style scoped>\n",
       "    .dataframe tbody tr th:only-of-type {\n",
       "        vertical-align: middle;\n",
       "    }\n",
       "\n",
       "    .dataframe tbody tr th {\n",
       "        vertical-align: top;\n",
       "    }\n",
       "\n",
       "    .dataframe thead th {\n",
       "        text-align: right;\n",
       "    }\n",
       "</style>\n",
       "<table border=\"1\" class=\"dataframe\">\n",
       "  <thead>\n",
       "    <tr style=\"text-align: right;\">\n",
       "      <th></th>\n",
       "      <th>Pregnancies</th>\n",
       "      <th>Glucose</th>\n",
       "      <th>BloodPressure</th>\n",
       "      <th>SkinThickness</th>\n",
       "      <th>Insulin</th>\n",
       "      <th>BMI</th>\n",
       "      <th>DiabetesPedigreeFunction</th>\n",
       "      <th>Age</th>\n",
       "      <th>Outcome</th>\n",
       "    </tr>\n",
       "  </thead>\n",
       "  <tbody>\n",
       "    <tr>\n",
       "      <th>0</th>\n",
       "      <td>6</td>\n",
       "      <td>148</td>\n",
       "      <td>72</td>\n",
       "      <td>35</td>\n",
       "      <td>0</td>\n",
       "      <td>33.6</td>\n",
       "      <td>0.627</td>\n",
       "      <td>50</td>\n",
       "      <td>1</td>\n",
       "    </tr>\n",
       "    <tr>\n",
       "      <th>1</th>\n",
       "      <td>1</td>\n",
       "      <td>85</td>\n",
       "      <td>66</td>\n",
       "      <td>29</td>\n",
       "      <td>0</td>\n",
       "      <td>26.6</td>\n",
       "      <td>0.351</td>\n",
       "      <td>31</td>\n",
       "      <td>0</td>\n",
       "    </tr>\n",
       "    <tr>\n",
       "      <th>2</th>\n",
       "      <td>8</td>\n",
       "      <td>183</td>\n",
       "      <td>64</td>\n",
       "      <td>0</td>\n",
       "      <td>0</td>\n",
       "      <td>23.3</td>\n",
       "      <td>0.672</td>\n",
       "      <td>32</td>\n",
       "      <td>1</td>\n",
       "    </tr>\n",
       "    <tr>\n",
       "      <th>3</th>\n",
       "      <td>1</td>\n",
       "      <td>89</td>\n",
       "      <td>66</td>\n",
       "      <td>23</td>\n",
       "      <td>94</td>\n",
       "      <td>28.1</td>\n",
       "      <td>0.167</td>\n",
       "      <td>21</td>\n",
       "      <td>0</td>\n",
       "    </tr>\n",
       "    <tr>\n",
       "      <th>4</th>\n",
       "      <td>0</td>\n",
       "      <td>137</td>\n",
       "      <td>40</td>\n",
       "      <td>35</td>\n",
       "      <td>168</td>\n",
       "      <td>43.1</td>\n",
       "      <td>2.288</td>\n",
       "      <td>33</td>\n",
       "      <td>1</td>\n",
       "    </tr>\n",
       "  </tbody>\n",
       "</table>\n",
       "</div>"
      ],
      "text/plain": [
       "   Pregnancies  Glucose  BloodPressure  SkinThickness  Insulin   BMI  \\\n",
       "0            6      148             72             35        0  33.6   \n",
       "1            1       85             66             29        0  26.6   \n",
       "2            8      183             64              0        0  23.3   \n",
       "3            1       89             66             23       94  28.1   \n",
       "4            0      137             40             35      168  43.1   \n",
       "\n",
       "   DiabetesPedigreeFunction  Age  Outcome  \n",
       "0                     0.627   50        1  \n",
       "1                     0.351   31        0  \n",
       "2                     0.672   32        1  \n",
       "3                     0.167   21        0  \n",
       "4                     2.288   33        1  "
      ]
     },
     "execution_count": 105,
     "metadata": {},
     "output_type": "execute_result"
    }
   ],
   "source": [
    "df.head()"
   ]
  },
  {
   "cell_type": "code",
   "execution_count": 106,
   "metadata": {},
   "outputs": [
    {
     "name": "stdout",
     "output_type": "stream",
     "text": [
      "<class 'pandas.core.frame.DataFrame'>\n",
      "RangeIndex: 768 entries, 0 to 767\n",
      "Data columns (total 9 columns):\n",
      " #   Column                    Non-Null Count  Dtype  \n",
      "---  ------                    --------------  -----  \n",
      " 0   Pregnancies               768 non-null    int64  \n",
      " 1   Glucose                   768 non-null    int64  \n",
      " 2   BloodPressure             768 non-null    int64  \n",
      " 3   SkinThickness             768 non-null    int64  \n",
      " 4   Insulin                   768 non-null    int64  \n",
      " 5   BMI                       768 non-null    float64\n",
      " 6   DiabetesPedigreeFunction  768 non-null    float64\n",
      " 7   Age                       768 non-null    int64  \n",
      " 8   Outcome                   768 non-null    int64  \n",
      "dtypes: float64(2), int64(7)\n",
      "memory usage: 54.1 KB\n"
     ]
    }
   ],
   "source": [
    "df.info()"
   ]
  },
  {
   "cell_type": "code",
   "execution_count": 107,
   "metadata": {},
   "outputs": [],
   "source": [
    "train_data = df.sample(frac=TRAIN_FRACTION,random_state=RANDOM_SEED)"
   ]
  },
  {
   "cell_type": "code",
   "execution_count": 108,
   "metadata": {},
   "outputs": [],
   "source": [
    "train_index = list(train_data.index)"
   ]
  },
  {
   "cell_type": "code",
   "execution_count": 109,
   "metadata": {},
   "outputs": [],
   "source": [
    "test_data = df.drop(train_index)"
   ]
  },
  {
   "cell_type": "code",
   "execution_count": 110,
   "metadata": {},
   "outputs": [],
   "source": [
    "test_index = list(test_data.index)"
   ]
  },
  {
   "cell_type": "code",
   "execution_count": 111,
   "metadata": {},
   "outputs": [],
   "source": [
    "features = ['Pregnancies','Glucose','BloodPressure','SkinThickness','Insulin','BMI','DiabetesPedigreeFunction','Age']"
   ]
  },
  {
   "cell_type": "code",
   "execution_count": 112,
   "metadata": {},
   "outputs": [],
   "source": [
    "x_test = test_data[features]"
   ]
  },
  {
   "cell_type": "code",
   "execution_count": 113,
   "metadata": {},
   "outputs": [],
   "source": [
    "y_test = test_data['Outcome']"
   ]
  },
  {
   "cell_type": "code",
   "execution_count": 114,
   "metadata": {},
   "outputs": [],
   "source": [
    "x_train = train_data[features]\n",
    "y_train = train_data['Outcome']"
   ]
  },
  {
   "cell_type": "code",
   "execution_count": 115,
   "metadata": {},
   "outputs": [
    {
     "name": "stdout",
     "output_type": "stream",
     "text": [
      "Number of diabetic patients in training - 202\n",
      "Number of non-diabetic patients in training - 336\n"
     ]
    }
   ],
   "source": [
    "print(f\"Number of diabetic patients in training - {sum(y_train)}\")\n",
    "print(f\"Number of non-diabetic patients in training - {sum(1-(y_train))}\")"
   ]
  },
  {
   "cell_type": "code",
   "execution_count": 116,
   "metadata": {},
   "outputs": [
    {
     "name": "stdout",
     "output_type": "stream",
     "text": [
      "Number of diabetic patients in test - 66\n",
      "Number of non-diabetic patients in test - 164\n"
     ]
    }
   ],
   "source": [
    "print(f\"Number of diabetic patients in test - {sum(y_test)}\")\n",
    "print(f\"Number of non-diabetic patients in test - {sum(1-(y_test))}\")"
   ]
  },
  {
   "cell_type": "code",
   "execution_count": 117,
   "metadata": {},
   "outputs": [
    {
     "data": {
      "text/plain": [
       "(230, 8)"
      ]
     },
     "execution_count": 117,
     "metadata": {},
     "output_type": "execute_result"
    }
   ],
   "source": [
    "x_test.shape"
   ]
  },
  {
   "cell_type": "code",
   "execution_count": 118,
   "metadata": {},
   "outputs": [],
   "source": [
    "max_depth_tree = 5"
   ]
  },
  {
   "cell_type": "markdown",
   "metadata": {},
   "source": [
    "#### Entropy Metric - Best Split"
   ]
  },
  {
   "cell_type": "code",
   "execution_count": 119,
   "metadata": {},
   "outputs": [
    {
     "data": {
      "text/html": [
       "<style>#sk-container-id-13 {color: black;background-color: white;}#sk-container-id-13 pre{padding: 0;}#sk-container-id-13 div.sk-toggleable {background-color: white;}#sk-container-id-13 label.sk-toggleable__label {cursor: pointer;display: block;width: 100%;margin-bottom: 0;padding: 0.3em;box-sizing: border-box;text-align: center;}#sk-container-id-13 label.sk-toggleable__label-arrow:before {content: \"▸\";float: left;margin-right: 0.25em;color: #696969;}#sk-container-id-13 label.sk-toggleable__label-arrow:hover:before {color: black;}#sk-container-id-13 div.sk-estimator:hover label.sk-toggleable__label-arrow:before {color: black;}#sk-container-id-13 div.sk-toggleable__content {max-height: 0;max-width: 0;overflow: hidden;text-align: left;background-color: #f0f8ff;}#sk-container-id-13 div.sk-toggleable__content pre {margin: 0.2em;color: black;border-radius: 0.25em;background-color: #f0f8ff;}#sk-container-id-13 input.sk-toggleable__control:checked~div.sk-toggleable__content {max-height: 200px;max-width: 100%;overflow: auto;}#sk-container-id-13 input.sk-toggleable__control:checked~label.sk-toggleable__label-arrow:before {content: \"▾\";}#sk-container-id-13 div.sk-estimator input.sk-toggleable__control:checked~label.sk-toggleable__label {background-color: #d4ebff;}#sk-container-id-13 div.sk-label input.sk-toggleable__control:checked~label.sk-toggleable__label {background-color: #d4ebff;}#sk-container-id-13 input.sk-hidden--visually {border: 0;clip: rect(1px 1px 1px 1px);clip: rect(1px, 1px, 1px, 1px);height: 1px;margin: -1px;overflow: hidden;padding: 0;position: absolute;width: 1px;}#sk-container-id-13 div.sk-estimator {font-family: monospace;background-color: #f0f8ff;border: 1px dotted black;border-radius: 0.25em;box-sizing: border-box;margin-bottom: 0.5em;}#sk-container-id-13 div.sk-estimator:hover {background-color: #d4ebff;}#sk-container-id-13 div.sk-parallel-item::after {content: \"\";width: 100%;border-bottom: 1px solid gray;flex-grow: 1;}#sk-container-id-13 div.sk-label:hover label.sk-toggleable__label {background-color: #d4ebff;}#sk-container-id-13 div.sk-serial::before {content: \"\";position: absolute;border-left: 1px solid gray;box-sizing: border-box;top: 0;bottom: 0;left: 50%;z-index: 0;}#sk-container-id-13 div.sk-serial {display: flex;flex-direction: column;align-items: center;background-color: white;padding-right: 0.2em;padding-left: 0.2em;position: relative;}#sk-container-id-13 div.sk-item {position: relative;z-index: 1;}#sk-container-id-13 div.sk-parallel {display: flex;align-items: stretch;justify-content: center;background-color: white;position: relative;}#sk-container-id-13 div.sk-item::before, #sk-container-id-13 div.sk-parallel-item::before {content: \"\";position: absolute;border-left: 1px solid gray;box-sizing: border-box;top: 0;bottom: 0;left: 50%;z-index: -1;}#sk-container-id-13 div.sk-parallel-item {display: flex;flex-direction: column;z-index: 1;position: relative;background-color: white;}#sk-container-id-13 div.sk-parallel-item:first-child::after {align-self: flex-end;width: 50%;}#sk-container-id-13 div.sk-parallel-item:last-child::after {align-self: flex-start;width: 50%;}#sk-container-id-13 div.sk-parallel-item:only-child::after {width: 0;}#sk-container-id-13 div.sk-dashed-wrapped {border: 1px dashed gray;margin: 0 0.4em 0.5em 0.4em;box-sizing: border-box;padding-bottom: 0.4em;background-color: white;}#sk-container-id-13 div.sk-label label {font-family: monospace;font-weight: bold;display: inline-block;line-height: 1.2em;}#sk-container-id-13 div.sk-label-container {text-align: center;}#sk-container-id-13 div.sk-container {/* jupyter's `normalize.less` sets `[hidden] { display: none; }` but bootstrap.min.css set `[hidden] { display: none !important; }` so we also need the `!important` here to be able to override the default hidden behavior on the sphinx rendered scikit-learn.org. See: https://github.com/scikit-learn/scikit-learn/issues/21755 */display: inline-block !important;position: relative;}#sk-container-id-13 div.sk-text-repr-fallback {display: none;}</style><div id=\"sk-container-id-13\" class=\"sk-top-container\"><div class=\"sk-text-repr-fallback\"><pre>DecisionTreeClassifier(criterion=&#x27;entropy&#x27;, max_depth=5)</pre><b>In a Jupyter environment, please rerun this cell to show the HTML representation or trust the notebook. <br />On GitHub, the HTML representation is unable to render, please try loading this page with nbviewer.org.</b></div><div class=\"sk-container\" hidden><div class=\"sk-item\"><div class=\"sk-estimator sk-toggleable\"><input class=\"sk-toggleable__control sk-hidden--visually\" id=\"sk-estimator-id-13\" type=\"checkbox\" checked><label for=\"sk-estimator-id-13\" class=\"sk-toggleable__label sk-toggleable__label-arrow\">DecisionTreeClassifier</label><div class=\"sk-toggleable__content\"><pre>DecisionTreeClassifier(criterion=&#x27;entropy&#x27;, max_depth=5)</pre></div></div></div></div></div>"
      ],
      "text/plain": [
       "DecisionTreeClassifier(criterion='entropy', max_depth=5)"
      ]
     },
     "execution_count": 119,
     "metadata": {},
     "output_type": "execute_result"
    }
   ],
   "source": [
    "dtree = DecisionTreeClassifier(criterion=\"entropy\",max_depth=max_depth_tree)\n",
    "dtree.fit(x_train,y_train)"
   ]
  },
  {
   "cell_type": "code",
   "execution_count": 120,
   "metadata": {},
   "outputs": [
    {
     "data": {
      "text/plain": [
       "[Text(0.41875, 0.9166666666666666, 'Glucose <= 123.5\\nentropy = 0.955\\nsamples = 538\\nvalue = [336, 202]'),\n",
       " Text(0.15625, 0.75, 'BMI <= 26.45\\nentropy = 0.721\\nsamples = 301\\nvalue = [241, 60]'),\n",
       " Text(0.05, 0.5833333333333334, 'Pregnancies <= 9.0\\nentropy = 0.096\\nsamples = 81\\nvalue = [80, 1]'),\n",
       " Text(0.025, 0.4166666666666667, 'entropy = 0.0\\nsamples = 78\\nvalue = [78, 0]'),\n",
       " Text(0.075, 0.4166666666666667, 'Age <= 30.5\\nentropy = 0.918\\nsamples = 3\\nvalue = [2, 1]'),\n",
       " Text(0.05, 0.25, 'entropy = 0.0\\nsamples = 1\\nvalue = [0, 1]'),\n",
       " Text(0.1, 0.25, 'entropy = 0.0\\nsamples = 2\\nvalue = [2, 0]'),\n",
       " Text(0.2625, 0.5833333333333334, 'Age <= 28.5\\nentropy = 0.839\\nsamples = 220\\nvalue = [161, 59]'),\n",
       " Text(0.175, 0.4166666666666667, 'BMI <= 30.9\\nentropy = 0.588\\nsamples = 113\\nvalue = [97, 16]'),\n",
       " Text(0.15, 0.25, 'entropy = 0.0\\nsamples = 38\\nvalue = [38, 0]'),\n",
       " Text(0.2, 0.25, 'BloodPressure <= 37.0\\nentropy = 0.748\\nsamples = 75\\nvalue = [59, 16]'),\n",
       " Text(0.175, 0.08333333333333333, 'entropy = 0.0\\nsamples = 2\\nvalue = [0, 2]'),\n",
       " Text(0.225, 0.08333333333333333, 'entropy = 0.705\\nsamples = 73\\nvalue = [59, 14]'),\n",
       " Text(0.35, 0.4166666666666667, 'Glucose <= 94.5\\nentropy = 0.972\\nsamples = 107\\nvalue = [64, 43]'),\n",
       " Text(0.3, 0.25, 'DiabetesPedigreeFunction <= 0.796\\nentropy = 0.605\\nsamples = 27\\nvalue = [23, 4]'),\n",
       " Text(0.275, 0.08333333333333333, 'entropy = 0.414\\nsamples = 24\\nvalue = [22, 2]'),\n",
       " Text(0.325, 0.08333333333333333, 'entropy = 0.918\\nsamples = 3\\nvalue = [1, 2]'),\n",
       " Text(0.4, 0.25, 'Insulin <= 140.0\\nentropy = 1.0\\nsamples = 80\\nvalue = [41, 39]'),\n",
       " Text(0.375, 0.08333333333333333, 'entropy = 0.982\\nsamples = 64\\nvalue = [37, 27]'),\n",
       " Text(0.425, 0.08333333333333333, 'entropy = 0.811\\nsamples = 16\\nvalue = [4, 12]'),\n",
       " Text(0.68125, 0.75, 'Glucose <= 154.5\\nentropy = 0.971\\nsamples = 237\\nvalue = [95, 142]'),\n",
       " Text(0.55, 0.5833333333333334, 'BMI <= 27.35\\nentropy = 0.997\\nsamples = 147\\nvalue = [78, 69]'),\n",
       " Text(0.475, 0.4166666666666667, 'Pregnancies <= 2.5\\nentropy = 0.605\\nsamples = 27\\nvalue = [23, 4]'),\n",
       " Text(0.45, 0.25, 'entropy = 0.0\\nsamples = 13\\nvalue = [13, 0]'),\n",
       " Text(0.5, 0.25, 'DiabetesPedigreeFunction <= 0.213\\nentropy = 0.863\\nsamples = 14\\nvalue = [10, 4]'),\n",
       " Text(0.475, 0.08333333333333333, 'entropy = 0.0\\nsamples = 4\\nvalue = [4, 0]'),\n",
       " Text(0.525, 0.08333333333333333, 'entropy = 0.971\\nsamples = 10\\nvalue = [6, 4]'),\n",
       " Text(0.625, 0.4166666666666667, 'Glucose <= 152.5\\nentropy = 0.995\\nsamples = 120\\nvalue = [55, 65]'),\n",
       " Text(0.6, 0.25, 'BMI <= 42.85\\nentropy = 0.984\\nsamples = 113\\nvalue = [48, 65]'),\n",
       " Text(0.575, 0.08333333333333333, 'entropy = 0.998\\nsamples = 102\\nvalue = [48, 54]'),\n",
       " Text(0.625, 0.08333333333333333, 'entropy = 0.0\\nsamples = 11\\nvalue = [0, 11]'),\n",
       " Text(0.65, 0.25, 'entropy = 0.0\\nsamples = 7\\nvalue = [7, 0]'),\n",
       " Text(0.8125, 0.5833333333333334, 'BMI <= 29.85\\nentropy = 0.699\\nsamples = 90\\nvalue = [17, 73]'),\n",
       " Text(0.725, 0.4166666666666667, 'Age <= 25.5\\nentropy = 0.991\\nsamples = 18\\nvalue = [8, 10]'),\n",
       " Text(0.7, 0.25, 'entropy = 0.0\\nsamples = 3\\nvalue = [3, 0]'),\n",
       " Text(0.75, 0.25, 'BMI <= 26.25\\nentropy = 0.918\\nsamples = 15\\nvalue = [5, 10]'),\n",
       " Text(0.725, 0.08333333333333333, 'entropy = 0.0\\nsamples = 8\\nvalue = [0, 8]'),\n",
       " Text(0.775, 0.08333333333333333, 'entropy = 0.863\\nsamples = 7\\nvalue = [5, 2]'),\n",
       " Text(0.9, 0.4166666666666667, 'BMI <= 46.1\\nentropy = 0.544\\nsamples = 72\\nvalue = [9, 63]'),\n",
       " Text(0.85, 0.25, 'DiabetesPedigreeFunction <= 1.428\\nentropy = 0.439\\nsamples = 66\\nvalue = [6, 60]'),\n",
       " Text(0.825, 0.08333333333333333, 'entropy = 0.341\\nsamples = 63\\nvalue = [4, 59]'),\n",
       " Text(0.875, 0.08333333333333333, 'entropy = 0.918\\nsamples = 3\\nvalue = [2, 1]'),\n",
       " Text(0.95, 0.25, 'Insulin <= 177.5\\nentropy = 1.0\\nsamples = 6\\nvalue = [3, 3]'),\n",
       " Text(0.925, 0.08333333333333333, 'entropy = 0.0\\nsamples = 3\\nvalue = [0, 3]'),\n",
       " Text(0.975, 0.08333333333333333, 'entropy = 0.0\\nsamples = 3\\nvalue = [3, 0]')]"
      ]
     },
     "execution_count": 120,
     "metadata": {},
     "output_type": "execute_result"
    },
    {
     "data": {
      "image/png": "[encoded data removed]",
      "text/plain": [
       "<Figure size 432x288 with 1 Axes>"
      ]
     },
     "metadata": {
      "needs_background": "light"
     },
     "output_type": "display_data"
    }
   ],
   "source": [
    "tree.plot_tree(dtree,feature_names=features)"
   ]
  },
  {
   "cell_type": "code",
   "execution_count": 121,
   "metadata": {},
   "outputs": [
    {
     "name": "stdout",
     "output_type": "stream",
     "text": [
      "Accuracy score: 80.11152416356877\n",
      "Recall Score: 75.24752475247524\n",
      "Precision score: 72.72727272727273\n"
     ]
    },
    {
     "data": {
      "image/png": "[encoded data removed]",
      "text/plain": [
       "<Figure size 432x288 with 2 Axes>"
      ]
     },
     "metadata": {
      "needs_background": "light"
     },
     "output_type": "display_data"
    }
   ],
   "source": [
    "#### Confusion matrix for training data\n",
    "y_pred = dtree.predict(x_train)\n",
    "metrics.ConfusionMatrixDisplay.from_predictions(y_train,y_pred)\n",
    "print(f\"Accuracy score: {100*metrics.accuracy_score(y_train,y_pred)}\")\n",
    "print(f\"Recall Score: {100*metrics.recall_score(y_train,y_pred)}\")\n",
    "print(f\"Precision score: {100*metrics.precision_score(y_train,y_pred)}\")"
   ]
  },
  {
   "cell_type": "code",
   "execution_count": 122,
   "metadata": {},
   "outputs": [
    {
     "name": "stdout",
     "output_type": "stream",
     "text": [
      "Accuracy score: 76.08695652173914\n",
      "Recall Score: 69.6969696969697\n",
      "Precision score: 56.79012345679012\n"
     ]
    },
    {
     "data": {
      "image/png": "[encoded data removed]",
      "text/plain": [
       "<Figure size 432x288 with 2 Axes>"
      ]
     },
     "metadata": {
      "needs_background": "light"
     },
     "output_type": "display_data"
    }
   ],
   "source": [
    "#### Confusion matrix for test data\n",
    "y_pred = dtree.predict(x_test)\n",
    "metrics.ConfusionMatrixDisplay.from_predictions(y_test,y_pred)\n",
    "print(f\"Accuracy score: {100*metrics.accuracy_score(y_test,y_pred)}\")\n",
    "print(f\"Recall Score: {100*metrics.recall_score(y_test,y_pred)}\")\n",
    "print(f\"Precision score: {100*metrics.precision_score(y_test,y_pred)}\")"
   ]
  },
  {
   "cell_type": "markdown",
   "metadata": {},
   "source": [
    "#### Gini Metric - Best Split"
   ]
  },
  {
   "cell_type": "code",
   "execution_count": 123,
   "metadata": {},
   "outputs": [
    {
     "data": {
      "text/html": [
       "<style>#sk-container-id-14 {color: black;background-color: white;}#sk-container-id-14 pre{padding: 0;}#sk-container-id-14 div.sk-toggleable {background-color: white;}#sk-container-id-14 label.sk-toggleable__label {cursor: pointer;display: block;width: 100%;margin-bottom: 0;padding: 0.3em;box-sizing: border-box;text-align: center;}#sk-container-id-14 label.sk-toggleable__label-arrow:before {content: \"▸\";float: left;margin-right: 0.25em;color: #696969;}#sk-container-id-14 label.sk-toggleable__label-arrow:hover:before {color: black;}#sk-container-id-14 div.sk-estimator:hover label.sk-toggleable__label-arrow:before {color: black;}#sk-container-id-14 div.sk-toggleable__content {max-height: 0;max-width: 0;overflow: hidden;text-align: left;background-color: #f0f8ff;}#sk-container-id-14 div.sk-toggleable__content pre {margin: 0.2em;color: black;border-radius: 0.25em;background-color: #f0f8ff;}#sk-container-id-14 input.sk-toggleable__control:checked~div.sk-toggleable__content {max-height: 200px;max-width: 100%;overflow: auto;}#sk-container-id-14 input.sk-toggleable__control:checked~label.sk-toggleable__label-arrow:before {content: \"▾\";}#sk-container-id-14 div.sk-estimator input.sk-toggleable__control:checked~label.sk-toggleable__label {background-color: #d4ebff;}#sk-container-id-14 div.sk-label input.sk-toggleable__control:checked~label.sk-toggleable__label {background-color: #d4ebff;}#sk-container-id-14 input.sk-hidden--visually {border: 0;clip: rect(1px 1px 1px 1px);clip: rect(1px, 1px, 1px, 1px);height: 1px;margin: -1px;overflow: hidden;padding: 0;position: absolute;width: 1px;}#sk-container-id-14 div.sk-estimator {font-family: monospace;background-color: #f0f8ff;border: 1px dotted black;border-radius: 0.25em;box-sizing: border-box;margin-bottom: 0.5em;}#sk-container-id-14 div.sk-estimator:hover {background-color: #d4ebff;}#sk-container-id-14 div.sk-parallel-item::after {content: \"\";width: 100%;border-bottom: 1px solid gray;flex-grow: 1;}#sk-container-id-14 div.sk-label:hover label.sk-toggleable__label {background-color: #d4ebff;}#sk-container-id-14 div.sk-serial::before {content: \"\";position: absolute;border-left: 1px solid gray;box-sizing: border-box;top: 0;bottom: 0;left: 50%;z-index: 0;}#sk-container-id-14 div.sk-serial {display: flex;flex-direction: column;align-items: center;background-color: white;padding-right: 0.2em;padding-left: 0.2em;position: relative;}#sk-container-id-14 div.sk-item {position: relative;z-index: 1;}#sk-container-id-14 div.sk-parallel {display: flex;align-items: stretch;justify-content: center;background-color: white;position: relative;}#sk-container-id-14 div.sk-item::before, #sk-container-id-14 div.sk-parallel-item::before {content: \"\";position: absolute;border-left: 1px solid gray;box-sizing: border-box;top: 0;bottom: 0;left: 50%;z-index: -1;}#sk-container-id-14 div.sk-parallel-item {display: flex;flex-direction: column;z-index: 1;position: relative;background-color: white;}#sk-container-id-14 div.sk-parallel-item:first-child::after {align-self: flex-end;width: 50%;}#sk-container-id-14 div.sk-parallel-item:last-child::after {align-self: flex-start;width: 50%;}#sk-container-id-14 div.sk-parallel-item:only-child::after {width: 0;}#sk-container-id-14 div.sk-dashed-wrapped {border: 1px dashed gray;margin: 0 0.4em 0.5em 0.4em;box-sizing: border-box;padding-bottom: 0.4em;background-color: white;}#sk-container-id-14 div.sk-label label {font-family: monospace;font-weight: bold;display: inline-block;line-height: 1.2em;}#sk-container-id-14 div.sk-label-container {text-align: center;}#sk-container-id-14 div.sk-container {/* jupyter's `normalize.less` sets `[hidden] { display: none; }` but bootstrap.min.css set `[hidden] { display: none !important; }` so we also need the `!important` here to be able to override the default hidden behavior on the sphinx rendered scikit-learn.org. See: https://github.com/scikit-learn/scikit-learn/issues/21755 */display: inline-block !important;position: relative;}#sk-container-id-14 div.sk-text-repr-fallback {display: none;}</style><div id=\"sk-container-id-14\" class=\"sk-top-container\"><div class=\"sk-text-repr-fallback\"><pre>DecisionTreeClassifier(max_depth=5)</pre><b>In a Jupyter environment, please rerun this cell to show the HTML representation or trust the notebook. <br />On GitHub, the HTML representation is unable to render, please try loading this page with nbviewer.org.</b></div><div class=\"sk-container\" hidden><div class=\"sk-item\"><div class=\"sk-estimator sk-toggleable\"><input class=\"sk-toggleable__control sk-hidden--visually\" id=\"sk-estimator-id-14\" type=\"checkbox\" checked><label for=\"sk-estimator-id-14\" class=\"sk-toggleable__label sk-toggleable__label-arrow\">DecisionTreeClassifier</label><div class=\"sk-toggleable__content\"><pre>DecisionTreeClassifier(max_depth=5)</pre></div></div></div></div></div>"
      ],
      "text/plain": [
       "DecisionTreeClassifier(max_depth=5)"
      ]
     },
     "execution_count": 123,
     "metadata": {},
     "output_type": "execute_result"
    }
   ],
   "source": [
    "dtree = DecisionTreeClassifier(criterion=\"gini\",max_depth=max_depth_tree)\n",
    "dtree.fit(x_train,y_train)"
   ]
  },
  {
   "cell_type": "code",
   "execution_count": 124,
   "metadata": {},
   "outputs": [
    {
     "data": {
      "text/plain": [
       "[Text(0.3980263157894737, 0.9166666666666666, 'Glucose <= 123.5\\ngini = 0.469\\nsamples = 538\\nvalue = [336, 202]'),\n",
       " Text(0.1513157894736842, 0.75, 'Age <= 28.5\\ngini = 0.319\\nsamples = 301\\nvalue = [241, 60]'),\n",
       " Text(0.05263157894736842, 0.5833333333333334, 'BMI <= 30.9\\ngini = 0.172\\nsamples = 168\\nvalue = [152, 16]'),\n",
       " Text(0.02631578947368421, 0.4166666666666667, 'gini = 0.0\\nsamples = 93\\nvalue = [93, 0]'),\n",
       " Text(0.07894736842105263, 0.4166666666666667, 'DiabetesPedigreeFunction <= 0.128\\ngini = 0.336\\nsamples = 75\\nvalue = [59, 16]'),\n",
       " Text(0.05263157894736842, 0.25, 'gini = 0.0\\nsamples = 2\\nvalue = [0, 2]'),\n",
       " Text(0.10526315789473684, 0.25, 'BloodPressure <= 37.0\\ngini = 0.31\\nsamples = 73\\nvalue = [59, 14]'),\n",
       " Text(0.07894736842105263, 0.08333333333333333, 'gini = 0.0\\nsamples = 2\\nvalue = [0, 2]'),\n",
       " Text(0.13157894736842105, 0.08333333333333333, 'gini = 0.281\\nsamples = 71\\nvalue = [59, 12]'),\n",
       " Text(0.25, 0.5833333333333334, 'BMI <= 26.35\\ngini = 0.443\\nsamples = 133\\nvalue = [89, 44]'),\n",
       " Text(0.18421052631578946, 0.4166666666666667, 'BMI <= 9.65\\ngini = 0.074\\nsamples = 26\\nvalue = [25, 1]'),\n",
       " Text(0.15789473684210525, 0.25, 'gini = 0.0\\nsamples = 1\\nvalue = [0, 1]'),\n",
       " Text(0.21052631578947367, 0.25, 'gini = 0.0\\nsamples = 25\\nvalue = [25, 0]'),\n",
       " Text(0.3157894736842105, 0.4166666666666667, 'Glucose <= 99.5\\ngini = 0.481\\nsamples = 107\\nvalue = [64, 43]'),\n",
       " Text(0.2631578947368421, 0.25, 'DiabetesPedigreeFunction <= 0.796\\ngini = 0.326\\nsamples = 39\\nvalue = [31, 8]'),\n",
       " Text(0.23684210526315788, 0.08333333333333333, 'gini = 0.251\\nsamples = 34\\nvalue = [29, 5]'),\n",
       " Text(0.2894736842105263, 0.08333333333333333, 'gini = 0.48\\nsamples = 5\\nvalue = [2, 3]'),\n",
       " Text(0.3684210526315789, 0.25, 'DiabetesPedigreeFunction <= 0.252\\ngini = 0.5\\nsamples = 68\\nvalue = [33, 35]'),\n",
       " Text(0.34210526315789475, 0.08333333333333333, 'gini = 0.408\\nsamples = 21\\nvalue = [15, 6]'),\n",
       " Text(0.39473684210526316, 0.08333333333333333, 'gini = 0.473\\nsamples = 47\\nvalue = [18, 29]'),\n",
       " Text(0.6447368421052632, 0.75, 'BMI <= 30.05\\ngini = 0.48\\nsamples = 237\\nvalue = [95, 142]'),\n",
       " Text(0.5, 0.5833333333333334, 'Age <= 26.5\\ngini = 0.456\\nsamples = 74\\nvalue = [48, 26]'),\n",
       " Text(0.4473684210526316, 0.4166666666666667, 'BMI <= 28.8\\ngini = 0.095\\nsamples = 20\\nvalue = [19, 1]'),\n",
       " Text(0.42105263157894735, 0.25, 'gini = 0.0\\nsamples = 19\\nvalue = [19, 0]'),\n",
       " Text(0.47368421052631576, 0.25, 'gini = 0.0\\nsamples = 1\\nvalue = [0, 1]'),\n",
       " Text(0.5526315789473685, 0.4166666666666667, 'Age <= 60.5\\ngini = 0.497\\nsamples = 54\\nvalue = [29, 25]'),\n",
       " Text(0.5263157894736842, 0.25, 'Glucose <= 164.0\\ngini = 0.498\\nsamples = 47\\nvalue = [22, 25]'),\n",
       " Text(0.5, 0.08333333333333333, 'gini = 0.494\\nsamples = 38\\nvalue = [21, 17]'),\n",
       " Text(0.5526315789473685, 0.08333333333333333, 'gini = 0.198\\nsamples = 9\\nvalue = [1, 8]'),\n",
       " Text(0.5789473684210527, 0.25, 'gini = 0.0\\nsamples = 7\\nvalue = [7, 0]'),\n",
       " Text(0.7894736842105263, 0.5833333333333334, 'Glucose <= 157.5\\ngini = 0.41\\nsamples = 163\\nvalue = [47, 116]'),\n",
       " Text(0.6842105263157895, 0.4166666666666667, 'BMI <= 41.65\\ngini = 0.484\\nsamples = 95\\nvalue = [39, 56]'),\n",
       " Text(0.631578947368421, 0.25, 'Age <= 32.0\\ngini = 0.499\\nsamples = 78\\nvalue = [37, 41]'),\n",
       " Text(0.6052631578947368, 0.08333333333333333, 'gini = 0.478\\nsamples = 38\\nvalue = [23, 15]'),\n",
       " Text(0.6578947368421053, 0.08333333333333333, 'gini = 0.455\\nsamples = 40\\nvalue = [14, 26]'),\n",
       " Text(0.7368421052631579, 0.25, 'SkinThickness <= 50.0\\ngini = 0.208\\nsamples = 17\\nvalue = [2, 15]'),\n",
       " Text(0.7105263157894737, 0.08333333333333333, 'gini = 0.117\\nsamples = 16\\nvalue = [1, 15]'),\n",
       " Text(0.7631578947368421, 0.08333333333333333, 'gini = 0.0\\nsamples = 1\\nvalue = [1, 0]'),\n",
       " Text(0.8947368421052632, 0.4166666666666667, 'DiabetesPedigreeFunction <= 1.157\\ngini = 0.208\\nsamples = 68\\nvalue = [8, 60]'),\n",
       " Text(0.8421052631578947, 0.25, 'BMI <= 46.8\\ngini = 0.148\\nsamples = 62\\nvalue = [5, 57]'),\n",
       " Text(0.8157894736842105, 0.08333333333333333, 'gini = 0.1\\nsamples = 57\\nvalue = [3, 54]'),\n",
       " Text(0.868421052631579, 0.08333333333333333, 'gini = 0.48\\nsamples = 5\\nvalue = [2, 3]'),\n",
       " Text(0.9473684210526315, 0.25, 'SkinThickness <= 40.5\\ngini = 0.5\\nsamples = 6\\nvalue = [3, 3]'),\n",
       " Text(0.9210526315789473, 0.08333333333333333, 'gini = 0.0\\nsamples = 3\\nvalue = [3, 0]'),\n",
       " Text(0.9736842105263158, 0.08333333333333333, 'gini = 0.0\\nsamples = 3\\nvalue = [0, 3]')]"
      ]
     },
     "execution_count": 124,
     "metadata": {},
     "output_type": "execute_result"
    },
    {
     "data": {
      "image/png": "[encoded data removed]",
      "text/plain": [
       "<Figure size 432x288 with 1 Axes>"
      ]
     },
     "metadata": {
      "needs_background": "light"
     },
     "output_type": "display_data"
    }
   ],
   "source": [
    "tree.plot_tree(dtree,feature_names=features)"
   ]
  },
  {
   "cell_type": "code",
   "execution_count": 125,
   "metadata": {},
   "outputs": [
    {
     "name": "stdout",
     "output_type": "stream",
     "text": [
      "Accuracy score: 82.15613382899627\n",
      "Recall Score: 72.77227722772277\n",
      "Precision score: 78.19148936170212\n"
     ]
    },
    {
     "data": {
      "image/png": "[encoded data removed]",
      "text/plain": [
       "<Figure size 432x288 with 2 Axes>"
      ]
     },
     "metadata": {
      "needs_background": "light"
     },
     "output_type": "display_data"
    }
   ],
   "source": [
    "#### Confusion matrix for training data\n",
    "y_pred = dtree.predict(x_train)\n",
    "metrics.ConfusionMatrixDisplay.from_predictions(y_train,y_pred)\n",
    "print(f\"Accuracy score: {100*metrics.accuracy_score(y_train,y_pred)}\")\n",
    "print(f\"Recall Score: {100*metrics.recall_score(y_train,y_pred)}\")\n",
    "print(f\"Precision score: {100*metrics.precision_score(y_train,y_pred)}\")"
   ]
  },
  {
   "cell_type": "code",
   "execution_count": 126,
   "metadata": {},
   "outputs": [
    {
     "name": "stdout",
     "output_type": "stream",
     "text": [
      "Accuracy score: 80.0\n",
      "Recall Score: 74.24242424242425\n",
      "Precision score: 62.82051282051282\n"
     ]
    },
    {
     "data": {
      "image/png": "[encoded data removed]",
      "text/plain": [
       "<Figure size 432x288 with 2 Axes>"
      ]
     },
     "metadata": {
      "needs_background": "light"
     },
     "output_type": "display_data"
    }
   ],
   "source": [
    "#### Confusion matrix for test data\n",
    "y_pred = dtree.predict(x_test)\n",
    "metrics.ConfusionMatrixDisplay.from_predictions(y_test,y_pred)\n",
    "print(f\"Accuracy score: {100*metrics.accuracy_score(y_test,y_pred)}\")\n",
    "print(f\"Recall Score: {100*metrics.recall_score(y_test,y_pred)}\")\n",
    "print(f\"Precision score: {100*metrics.precision_score(y_test,y_pred)}\")"
   ]
  },
  {
   "cell_type": "markdown",
   "metadata": {},
   "source": [
    "#### Entropy Metric - Random Split"
   ]
  },
  {
   "cell_type": "code",
   "execution_count": 127,
   "metadata": {},
   "outputs": [
    {
     "data": {
      "text/html": [
       "<style>#sk-container-id-15 {color: black;background-color: white;}#sk-container-id-15 pre{padding: 0;}#sk-container-id-15 div.sk-toggleable {background-color: white;}#sk-container-id-15 label.sk-toggleable__label {cursor: pointer;display: block;width: 100%;margin-bottom: 0;padding: 0.3em;box-sizing: border-box;text-align: center;}#sk-container-id-15 label.sk-toggleable__label-arrow:before {content: \"▸\";float: left;margin-right: 0.25em;color: #696969;}#sk-container-id-15 label.sk-toggleable__label-arrow:hover:before {color: black;}#sk-container-id-15 div.sk-estimator:hover label.sk-toggleable__label-arrow:before {color: black;}#sk-container-id-15 div.sk-toggleable__content {max-height: 0;max-width: 0;overflow: hidden;text-align: left;background-color: #f0f8ff;}#sk-container-id-15 div.sk-toggleable__content pre {margin: 0.2em;color: black;border-radius: 0.25em;background-color: #f0f8ff;}#sk-container-id-15 input.sk-toggleable__control:checked~div.sk-toggleable__content {max-height: 200px;max-width: 100%;overflow: auto;}#sk-container-id-15 input.sk-toggleable__control:checked~label.sk-toggleable__label-arrow:before {content: \"▾\";}#sk-container-id-15 div.sk-estimator input.sk-toggleable__control:checked~label.sk-toggleable__label {background-color: #d4ebff;}#sk-container-id-15 div.sk-label input.sk-toggleable__control:checked~label.sk-toggleable__label {background-color: #d4ebff;}#sk-container-id-15 input.sk-hidden--visually {border: 0;clip: rect(1px 1px 1px 1px);clip: rect(1px, 1px, 1px, 1px);height: 1px;margin: -1px;overflow: hidden;padding: 0;position: absolute;width: 1px;}#sk-container-id-15 div.sk-estimator {font-family: monospace;background-color: #f0f8ff;border: 1px dotted black;border-radius: 0.25em;box-sizing: border-box;margin-bottom: 0.5em;}#sk-container-id-15 div.sk-estimator:hover {background-color: #d4ebff;}#sk-container-id-15 div.sk-parallel-item::after {content: \"\";width: 100%;border-bottom: 1px solid gray;flex-grow: 1;}#sk-container-id-15 div.sk-label:hover label.sk-toggleable__label {background-color: #d4ebff;}#sk-container-id-15 div.sk-serial::before {content: \"\";position: absolute;border-left: 1px solid gray;box-sizing: border-box;top: 0;bottom: 0;left: 50%;z-index: 0;}#sk-container-id-15 div.sk-serial {display: flex;flex-direction: column;align-items: center;background-color: white;padding-right: 0.2em;padding-left: 0.2em;position: relative;}#sk-container-id-15 div.sk-item {position: relative;z-index: 1;}#sk-container-id-15 div.sk-parallel {display: flex;align-items: stretch;justify-content: center;background-color: white;position: relative;}#sk-container-id-15 div.sk-item::before, #sk-container-id-15 div.sk-parallel-item::before {content: \"\";position: absolute;border-left: 1px solid gray;box-sizing: border-box;top: 0;bottom: 0;left: 50%;z-index: -1;}#sk-container-id-15 div.sk-parallel-item {display: flex;flex-direction: column;z-index: 1;position: relative;background-color: white;}#sk-container-id-15 div.sk-parallel-item:first-child::after {align-self: flex-end;width: 50%;}#sk-container-id-15 div.sk-parallel-item:last-child::after {align-self: flex-start;width: 50%;}#sk-container-id-15 div.sk-parallel-item:only-child::after {width: 0;}#sk-container-id-15 div.sk-dashed-wrapped {border: 1px dashed gray;margin: 0 0.4em 0.5em 0.4em;box-sizing: border-box;padding-bottom: 0.4em;background-color: white;}#sk-container-id-15 div.sk-label label {font-family: monospace;font-weight: bold;display: inline-block;line-height: 1.2em;}#sk-container-id-15 div.sk-label-container {text-align: center;}#sk-container-id-15 div.sk-container {/* jupyter's `normalize.less` sets `[hidden] { display: none; }` but bootstrap.min.css set `[hidden] { display: none !important; }` so we also need the `!important` here to be able to override the default hidden behavior on the sphinx rendered scikit-learn.org. See: https://github.com/scikit-learn/scikit-learn/issues/21755 */display: inline-block !important;position: relative;}#sk-container-id-15 div.sk-text-repr-fallback {display: none;}</style><div id=\"sk-container-id-15\" class=\"sk-top-container\"><div class=\"sk-text-repr-fallback\"><pre>DecisionTreeClassifier(criterion=&#x27;entropy&#x27;, max_depth=5, splitter=&#x27;random&#x27;)</pre><b>In a Jupyter environment, please rerun this cell to show the HTML representation or trust the notebook. <br />On GitHub, the HTML representation is unable to render, please try loading this page with nbviewer.org.</b></div><div class=\"sk-container\" hidden><div class=\"sk-item\"><div class=\"sk-estimator sk-toggleable\"><input class=\"sk-toggleable__control sk-hidden--visually\" id=\"sk-estimator-id-15\" type=\"checkbox\" checked><label for=\"sk-estimator-id-15\" class=\"sk-toggleable__label sk-toggleable__label-arrow\">DecisionTreeClassifier</label><div class=\"sk-toggleable__content\"><pre>DecisionTreeClassifier(criterion=&#x27;entropy&#x27;, max_depth=5, splitter=&#x27;random&#x27;)</pre></div></div></div></div></div>"
      ],
      "text/plain": [
       "DecisionTreeClassifier(criterion='entropy', max_depth=5, splitter='random')"
      ]
     },
     "execution_count": 127,
     "metadata": {},
     "output_type": "execute_result"
    }
   ],
   "source": [
    "dtree = DecisionTreeClassifier(criterion=\"entropy\",max_depth=max_depth_tree,splitter=\"random\")\n",
    "dtree.fit(x_train,y_train)"
   ]
  },
  {
   "cell_type": "code",
   "execution_count": 128,
   "metadata": {},
   "outputs": [
    {
     "data": {
      "text/plain": [
       "[Text(0.4375, 0.9166666666666666, 'Glucose <= 104.329\\nentropy = 0.955\\nsamples = 538\\nvalue = [336, 202]'),\n",
       " Text(0.125, 0.75, 'Glucose <= 92.329\\nentropy = 0.578\\nsamples = 167\\nvalue = [144, 23]'),\n",
       " Text(0.0625, 0.5833333333333334, 'SkinThickness <= 12.081\\nentropy = 0.394\\nsamples = 90\\nvalue = [83, 7]'),\n",
       " Text(0.03125, 0.4166666666666667, 'entropy = 0.0\\nsamples = 35\\nvalue = [35, 0]'),\n",
       " Text(0.09375, 0.4166666666666667, 'Age <= 22.224\\nentropy = 0.55\\nsamples = 55\\nvalue = [48, 7]'),\n",
       " Text(0.0625, 0.25, 'entropy = 0.0\\nsamples = 14\\nvalue = [14, 0]'),\n",
       " Text(0.125, 0.25, 'Age <= 53.125\\nentropy = 0.659\\nsamples = 41\\nvalue = [34, 7]'),\n",
       " Text(0.09375, 0.08333333333333333, 'entropy = 0.61\\nsamples = 40\\nvalue = [34, 6]'),\n",
       " Text(0.15625, 0.08333333333333333, 'entropy = 0.0\\nsamples = 1\\nvalue = [0, 1]'),\n",
       " Text(0.1875, 0.5833333333333334, 'BMI <= 24.283\\nentropy = 0.737\\nsamples = 77\\nvalue = [61, 16]'),\n",
       " Text(0.15625, 0.4166666666666667, 'entropy = 0.0\\nsamples = 18\\nvalue = [18, 0]'),\n",
       " Text(0.21875, 0.4166666666666667, 'BMI <= 28.755\\nentropy = 0.843\\nsamples = 59\\nvalue = [43, 16]'),\n",
       " Text(0.1875, 0.25, 'entropy = 0.0\\nsamples = 13\\nvalue = [13, 0]'),\n",
       " Text(0.25, 0.25, 'Glucose <= 103.79\\nentropy = 0.932\\nsamples = 46\\nvalue = [30, 16]'),\n",
       " Text(0.21875, 0.08333333333333333, 'entropy = 0.91\\nsamples = 43\\nvalue = [29, 14]'),\n",
       " Text(0.28125, 0.08333333333333333, 'entropy = 0.918\\nsamples = 3\\nvalue = [1, 2]'),\n",
       " Text(0.75, 0.75, 'Glucose <= 184.885\\nentropy = 0.999\\nsamples = 371\\nvalue = [192, 179]'),\n",
       " Text(0.5625, 0.5833333333333334, 'Glucose <= 155.278\\nentropy = 0.995\\nsamples = 347\\nvalue = [188, 159]'),\n",
       " Text(0.4375, 0.4166666666666667, 'Age <= 25.372\\nentropy = 0.961\\nsamples = 284\\nvalue = [175, 109]'),\n",
       " Text(0.375, 0.25, 'BloodPressure <= 23.658\\nentropy = 0.793\\nsamples = 88\\nvalue = [67, 21]'),\n",
       " Text(0.34375, 0.08333333333333333, 'entropy = 0.0\\nsamples = 3\\nvalue = [0, 3]'),\n",
       " Text(0.40625, 0.08333333333333333, 'entropy = 0.745\\nsamples = 85\\nvalue = [67, 18]'),\n",
       " Text(0.5, 0.25, 'Glucose <= 114.379\\nentropy = 0.992\\nsamples = 196\\nvalue = [108, 88]'),\n",
       " Text(0.46875, 0.08333333333333333, 'entropy = 0.884\\nsamples = 43\\nvalue = [30, 13]'),\n",
       " Text(0.53125, 0.08333333333333333, 'entropy = 1.0\\nsamples = 153\\nvalue = [78, 75]'),\n",
       " Text(0.6875, 0.4166666666666667, 'SkinThickness <= 27.683\\nentropy = 0.734\\nsamples = 63\\nvalue = [13, 50]'),\n",
       " Text(0.625, 0.25, 'BloodPressure <= 11.461\\nentropy = 0.822\\nsamples = 35\\nvalue = [9, 26]'),\n",
       " Text(0.59375, 0.08333333333333333, 'entropy = 0.0\\nsamples = 3\\nvalue = [0, 3]'),\n",
       " Text(0.65625, 0.08333333333333333, 'entropy = 0.857\\nsamples = 32\\nvalue = [9, 23]'),\n",
       " Text(0.75, 0.25, 'Pregnancies <= 4.428\\nentropy = 0.592\\nsamples = 28\\nvalue = [4, 24]'),\n",
       " Text(0.71875, 0.08333333333333333, 'entropy = 0.722\\nsamples = 20\\nvalue = [4, 16]'),\n",
       " Text(0.78125, 0.08333333333333333, 'entropy = 0.0\\nsamples = 8\\nvalue = [0, 8]'),\n",
       " Text(0.9375, 0.5833333333333334, 'Age <= 47.818\\nentropy = 0.65\\nsamples = 24\\nvalue = [4, 20]'),\n",
       " Text(0.90625, 0.4166666666666667, 'Pregnancies <= 5.782\\nentropy = 0.811\\nsamples = 16\\nvalue = [4, 12]'),\n",
       " Text(0.875, 0.25, 'BMI <= 32.046\\nentropy = 0.971\\nsamples = 10\\nvalue = [4, 6]'),\n",
       " Text(0.84375, 0.08333333333333333, 'entropy = 0.971\\nsamples = 5\\nvalue = [3, 2]'),\n",
       " Text(0.90625, 0.08333333333333333, 'entropy = 0.722\\nsamples = 5\\nvalue = [1, 4]'),\n",
       " Text(0.9375, 0.25, 'entropy = 0.0\\nsamples = 6\\nvalue = [0, 6]'),\n",
       " Text(0.96875, 0.4166666666666667, 'entropy = 0.0\\nsamples = 8\\nvalue = [0, 8]')]"
      ]
     },
     "execution_count": 128,
     "metadata": {},
     "output_type": "execute_result"
    },
    {
     "data": {
      "image/png": "[encoded data removed]",
      "text/plain": [
       "<Figure size 432x288 with 1 Axes>"
      ]
     },
     "metadata": {
      "needs_background": "light"
     },
     "output_type": "display_data"
    }
   ],
   "source": [
    "tree.plot_tree(dtree,feature_names=features)"
   ]
  },
  {
   "cell_type": "code",
   "execution_count": 129,
   "metadata": {},
   "outputs": [
    {
     "name": "stdout",
     "output_type": "stream",
     "text": [
      "Accuracy score: 73.42007434944237\n",
      "Recall Score: 36.633663366336634\n",
      "Precision score: 83.14606741573034\n"
     ]
    },
    {
     "data": {
      "image/png": "[encoded data removed]",
      "text/plain": [
       "<Figure size 432x288 with 2 Axes>"
      ]
     },
     "metadata": {
      "needs_background": "light"
     },
     "output_type": "display_data"
    }
   ],
   "source": [
    "#### Confusion matrix for training data\n",
    "y_pred = dtree.predict(x_train)\n",
    "metrics.ConfusionMatrixDisplay.from_predictions(y_train,y_pred)\n",
    "print(f\"Accuracy score: {100*metrics.accuracy_score(y_train,y_pred)}\")\n",
    "print(f\"Recall Score: {100*metrics.recall_score(y_train,y_pred)}\")\n",
    "print(f\"Precision score: {100*metrics.precision_score(y_train,y_pred)}\")"
   ]
  },
  {
   "cell_type": "code",
   "execution_count": 130,
   "metadata": {},
   "outputs": [
    {
     "name": "stdout",
     "output_type": "stream",
     "text": [
      "Accuracy score: 78.69565217391305\n",
      "Recall Score: 37.878787878787875\n",
      "Precision score: 75.75757575757575\n"
     ]
    },
    {
     "data": {
      "image/png": "[encoded data removed]",
      "text/plain": [
       "<Figure size 432x288 with 2 Axes>"
      ]
     },
     "metadata": {
      "needs_background": "light"
     },
     "output_type": "display_data"
    }
   ],
   "source": [
    "#### Confusion matrix for test data\n",
    "y_pred = dtree.predict(x_test)\n",
    "metrics.ConfusionMatrixDisplay.from_predictions(y_test,y_pred)\n",
    "print(f\"Accuracy score: {100*metrics.accuracy_score(y_test,y_pred)}\")\n",
    "print(f\"Recall Score: {100*metrics.recall_score(y_test,y_pred)}\")\n",
    "print(f\"Precision score: {100*metrics.precision_score(y_test,y_pred)}\")"
   ]
  },
  {
   "cell_type": "markdown",
   "metadata": {},
   "source": [
    "#### Gini Metric - Random Split"
   ]
  },
  {
   "cell_type": "code",
   "execution_count": 131,
   "metadata": {},
   "outputs": [
    {
     "data": {
      "text/html": [
       "<style>#sk-container-id-16 {color: black;background-color: white;}#sk-container-id-16 pre{padding: 0;}#sk-container-id-16 div.sk-toggleable {background-color: white;}#sk-container-id-16 label.sk-toggleable__label {cursor: pointer;display: block;width: 100%;margin-bottom: 0;padding: 0.3em;box-sizing: border-box;text-align: center;}#sk-container-id-16 label.sk-toggleable__label-arrow:before {content: \"▸\";float: left;margin-right: 0.25em;color: #696969;}#sk-container-id-16 label.sk-toggleable__label-arrow:hover:before {color: black;}#sk-container-id-16 div.sk-estimator:hover label.sk-toggleable__label-arrow:before {color: black;}#sk-container-id-16 div.sk-toggleable__content {max-height: 0;max-width: 0;overflow: hidden;text-align: left;background-color: #f0f8ff;}#sk-container-id-16 div.sk-toggleable__content pre {margin: 0.2em;color: black;border-radius: 0.25em;background-color: #f0f8ff;}#sk-container-id-16 input.sk-toggleable__control:checked~div.sk-toggleable__content {max-height: 200px;max-width: 100%;overflow: auto;}#sk-container-id-16 input.sk-toggleable__control:checked~label.sk-toggleable__label-arrow:before {content: \"▾\";}#sk-container-id-16 div.sk-estimator input.sk-toggleable__control:checked~label.sk-toggleable__label {background-color: #d4ebff;}#sk-container-id-16 div.sk-label input.sk-toggleable__control:checked~label.sk-toggleable__label {background-color: #d4ebff;}#sk-container-id-16 input.sk-hidden--visually {border: 0;clip: rect(1px 1px 1px 1px);clip: rect(1px, 1px, 1px, 1px);height: 1px;margin: -1px;overflow: hidden;padding: 0;position: absolute;width: 1px;}#sk-container-id-16 div.sk-estimator {font-family: monospace;background-color: #f0f8ff;border: 1px dotted black;border-radius: 0.25em;box-sizing: border-box;margin-bottom: 0.5em;}#sk-container-id-16 div.sk-estimator:hover {background-color: #d4ebff;}#sk-container-id-16 div.sk-parallel-item::after {content: \"\";width: 100%;border-bottom: 1px solid gray;flex-grow: 1;}#sk-container-id-16 div.sk-label:hover label.sk-toggleable__label {background-color: #d4ebff;}#sk-container-id-16 div.sk-serial::before {content: \"\";position: absolute;border-left: 1px solid gray;box-sizing: border-box;top: 0;bottom: 0;left: 50%;z-index: 0;}#sk-container-id-16 div.sk-serial {display: flex;flex-direction: column;align-items: center;background-color: white;padding-right: 0.2em;padding-left: 0.2em;position: relative;}#sk-container-id-16 div.sk-item {position: relative;z-index: 1;}#sk-container-id-16 div.sk-parallel {display: flex;align-items: stretch;justify-content: center;background-color: white;position: relative;}#sk-container-id-16 div.sk-item::before, #sk-container-id-16 div.sk-parallel-item::before {content: \"\";position: absolute;border-left: 1px solid gray;box-sizing: border-box;top: 0;bottom: 0;left: 50%;z-index: -1;}#sk-container-id-16 div.sk-parallel-item {display: flex;flex-direction: column;z-index: 1;position: relative;background-color: white;}#sk-container-id-16 div.sk-parallel-item:first-child::after {align-self: flex-end;width: 50%;}#sk-container-id-16 div.sk-parallel-item:last-child::after {align-self: flex-start;width: 50%;}#sk-container-id-16 div.sk-parallel-item:only-child::after {width: 0;}#sk-container-id-16 div.sk-dashed-wrapped {border: 1px dashed gray;margin: 0 0.4em 0.5em 0.4em;box-sizing: border-box;padding-bottom: 0.4em;background-color: white;}#sk-container-id-16 div.sk-label label {font-family: monospace;font-weight: bold;display: inline-block;line-height: 1.2em;}#sk-container-id-16 div.sk-label-container {text-align: center;}#sk-container-id-16 div.sk-container {/* jupyter's `normalize.less` sets `[hidden] { display: none; }` but bootstrap.min.css set `[hidden] { display: none !important; }` so we also need the `!important` here to be able to override the default hidden behavior on the sphinx rendered scikit-learn.org. See: https://github.com/scikit-learn/scikit-learn/issues/21755 */display: inline-block !important;position: relative;}#sk-container-id-16 div.sk-text-repr-fallback {display: none;}</style><div id=\"sk-container-id-16\" class=\"sk-top-container\"><div class=\"sk-text-repr-fallback\"><pre>DecisionTreeClassifier(max_depth=5, splitter=&#x27;random&#x27;)</pre><b>In a Jupyter environment, please rerun this cell to show the HTML representation or trust the notebook. <br />On GitHub, the HTML representation is unable to render, please try loading this page with nbviewer.org.</b></div><div class=\"sk-container\" hidden><div class=\"sk-item\"><div class=\"sk-estimator sk-toggleable\"><input class=\"sk-toggleable__control sk-hidden--visually\" id=\"sk-estimator-id-16\" type=\"checkbox\" checked><label for=\"sk-estimator-id-16\" class=\"sk-toggleable__label sk-toggleable__label-arrow\">DecisionTreeClassifier</label><div class=\"sk-toggleable__content\"><pre>DecisionTreeClassifier(max_depth=5, splitter=&#x27;random&#x27;)</pre></div></div></div></div></div>"
      ],
      "text/plain": [
       "DecisionTreeClassifier(max_depth=5, splitter='random')"
      ]
     },
     "execution_count": 131,
     "metadata": {},
     "output_type": "execute_result"
    }
   ],
   "source": [
    "dtree = DecisionTreeClassifier(criterion=\"gini\",max_depth=max_depth_tree,splitter=\"random\")\n",
    "dtree.fit(x_train,y_train)"
   ]
  },
  {
   "cell_type": "code",
   "execution_count": 132,
   "metadata": {},
   "outputs": [
    {
     "data": {
      "text/plain": [
       "[Text(0.5580357142857143, 0.9166666666666666, 'Age <= 36.714\\ngini = 0.469\\nsamples = 538\\nvalue = [336, 202]'),\n",
       " Text(0.2857142857142857, 0.75, 'Glucose <= 122.348\\ngini = 0.421\\nsamples = 359\\nvalue = [251, 108]'),\n",
       " Text(0.14285714285714285, 0.5833333333333334, 'Age <= 27.19\\ngini = 0.274\\nsamples = 226\\nvalue = [189, 37]'),\n",
       " Text(0.07142857142857142, 0.4166666666666667, 'BMI <= 36.605\\ngini = 0.166\\nsamples = 153\\nvalue = [139, 14]'),\n",
       " Text(0.03571428571428571, 0.25, 'Age <= 24.261\\ngini = 0.13\\nsamples = 129\\nvalue = [120, 9]'),\n",
       " Text(0.017857142857142856, 0.08333333333333333, 'gini = 0.092\\nsamples = 83\\nvalue = [79, 4]'),\n",
       " Text(0.05357142857142857, 0.08333333333333333, 'gini = 0.194\\nsamples = 46\\nvalue = [41, 5]'),\n",
       " Text(0.10714285714285714, 0.25, 'BMI <= 51.19\\ngini = 0.33\\nsamples = 24\\nvalue = [19, 5]'),\n",
       " Text(0.08928571428571429, 0.08333333333333333, 'gini = 0.287\\nsamples = 23\\nvalue = [19, 4]'),\n",
       " Text(0.125, 0.08333333333333333, 'gini = 0.0\\nsamples = 1\\nvalue = [0, 1]'),\n",
       " Text(0.21428571428571427, 0.4166666666666667, 'Glucose <= 94.24\\ngini = 0.432\\nsamples = 73\\nvalue = [50, 23]'),\n",
       " Text(0.17857142857142858, 0.25, 'DiabetesPedigreeFunction <= 0.655\\ngini = 0.1\\nsamples = 19\\nvalue = [18, 1]'),\n",
       " Text(0.16071428571428573, 0.08333333333333333, 'gini = 0.0\\nsamples = 15\\nvalue = [15, 0]'),\n",
       " Text(0.19642857142857142, 0.08333333333333333, 'gini = 0.375\\nsamples = 4\\nvalue = [3, 1]'),\n",
       " Text(0.25, 0.25, 'BMI <= 50.396\\ngini = 0.483\\nsamples = 54\\nvalue = [32, 22]'),\n",
       " Text(0.23214285714285715, 0.08333333333333333, 'gini = 0.478\\nsamples = 53\\nvalue = [32, 21]'),\n",
       " Text(0.26785714285714285, 0.08333333333333333, 'gini = 0.0\\nsamples = 1\\nvalue = [0, 1]'),\n",
       " Text(0.42857142857142855, 0.5833333333333334, 'Glucose <= 148.539\\ngini = 0.498\\nsamples = 133\\nvalue = [62, 71]'),\n",
       " Text(0.35714285714285715, 0.4166666666666667, 'BloodPressure <= 73.3\\ngini = 0.482\\nsamples = 79\\nvalue = [47, 32]'),\n",
       " Text(0.32142857142857145, 0.25, 'BloodPressure <= 13.924\\ngini = 0.5\\nsamples = 49\\nvalue = [25, 24]'),\n",
       " Text(0.30357142857142855, 0.08333333333333333, 'gini = 0.0\\nsamples = 6\\nvalue = [0, 6]'),\n",
       " Text(0.3392857142857143, 0.08333333333333333, 'gini = 0.487\\nsamples = 43\\nvalue = [25, 18]'),\n",
       " Text(0.39285714285714285, 0.25, 'DiabetesPedigreeFunction <= 0.962\\ngini = 0.391\\nsamples = 30\\nvalue = [22, 8]'),\n",
       " Text(0.375, 0.08333333333333333, 'gini = 0.337\\nsamples = 28\\nvalue = [22, 6]'),\n",
       " Text(0.4107142857142857, 0.08333333333333333, 'gini = 0.0\\nsamples = 2\\nvalue = [0, 2]'),\n",
       " Text(0.5, 0.4166666666666667, 'Glucose <= 164.506\\ngini = 0.401\\nsamples = 54\\nvalue = [15, 39]'),\n",
       " Text(0.4642857142857143, 0.25, 'Insulin <= 274.92\\ngini = 0.472\\nsamples = 21\\nvalue = [8, 13]'),\n",
       " Text(0.44642857142857145, 0.08333333333333333, 'gini = 0.415\\nsamples = 17\\nvalue = [5, 12]'),\n",
       " Text(0.48214285714285715, 0.08333333333333333, 'gini = 0.375\\nsamples = 4\\nvalue = [3, 1]'),\n",
       " Text(0.5357142857142857, 0.25, 'Insulin <= 574.251\\ngini = 0.334\\nsamples = 33\\nvalue = [7, 26]'),\n",
       " Text(0.5178571428571429, 0.08333333333333333, 'gini = 0.278\\nsamples = 30\\nvalue = [5, 25]'),\n",
       " Text(0.5535714285714286, 0.08333333333333333, 'gini = 0.444\\nsamples = 3\\nvalue = [2, 1]'),\n",
       " Text(0.8303571428571429, 0.75, 'Glucose <= 161.028\\ngini = 0.499\\nsamples = 179\\nvalue = [85, 94]'),\n",
       " Text(0.7142857142857143, 0.5833333333333334, 'BMI <= 30.414\\ngini = 0.493\\nsamples = 141\\nvalue = [79, 62]'),\n",
       " Text(0.6428571428571429, 0.4166666666666667, 'BMI <= 28.39\\ngini = 0.425\\nsamples = 49\\nvalue = [34, 15]'),\n",
       " Text(0.6071428571428571, 0.25, 'Pregnancies <= 10.578\\ngini = 0.327\\nsamples = 34\\nvalue = [27, 7]'),\n",
       " Text(0.5892857142857143, 0.08333333333333333, 'gini = 0.305\\nsamples = 32\\nvalue = [26, 6]'),\n",
       " Text(0.625, 0.08333333333333333, 'gini = 0.5\\nsamples = 2\\nvalue = [1, 1]'),\n",
       " Text(0.6785714285714286, 0.25, 'BMI <= 29.944\\ngini = 0.498\\nsamples = 15\\nvalue = [7, 8]'),\n",
       " Text(0.6607142857142857, 0.08333333333333333, 'gini = 0.486\\nsamples = 12\\nvalue = [7, 5]'),\n",
       " Text(0.6964285714285714, 0.08333333333333333, 'gini = 0.0\\nsamples = 3\\nvalue = [0, 3]'),\n",
       " Text(0.7857142857142857, 0.4166666666666667, 'BMI <= 33.572\\ngini = 0.5\\nsamples = 92\\nvalue = [45, 47]'),\n",
       " Text(0.75, 0.25, 'Age <= 46.269\\ngini = 0.473\\nsamples = 26\\nvalue = [16, 10]'),\n",
       " Text(0.7321428571428571, 0.08333333333333333, 'gini = 0.434\\nsamples = 22\\nvalue = [15, 7]'),\n",
       " Text(0.7678571428571429, 0.08333333333333333, 'gini = 0.375\\nsamples = 4\\nvalue = [1, 3]'),\n",
       " Text(0.8214285714285714, 0.25, 'DiabetesPedigreeFunction <= 0.424\\ngini = 0.493\\nsamples = 66\\nvalue = [29, 37]'),\n",
       " Text(0.8035714285714286, 0.08333333333333333, 'gini = 0.497\\nsamples = 37\\nvalue = [20, 17]'),\n",
       " Text(0.8392857142857143, 0.08333333333333333, 'gini = 0.428\\nsamples = 29\\nvalue = [9, 20]'),\n",
       " Text(0.9464285714285714, 0.5833333333333334, 'DiabetesPedigreeFunction <= 1.43\\ngini = 0.266\\nsamples = 38\\nvalue = [6, 32]'),\n",
       " Text(0.9285714285714286, 0.4166666666666667, 'BMI <= 46.24\\ngini = 0.234\\nsamples = 37\\nvalue = [5, 32]'),\n",
       " Text(0.8928571428571429, 0.25, 'BMI <= 29.428\\ngini = 0.202\\nsamples = 35\\nvalue = [4, 31]'),\n",
       " Text(0.875, 0.08333333333333333, 'gini = 0.49\\nsamples = 7\\nvalue = [3, 4]'),\n",
       " Text(0.9107142857142857, 0.08333333333333333, 'gini = 0.069\\nsamples = 28\\nvalue = [1, 27]'),\n",
       " Text(0.9642857142857143, 0.25, 'Glucose <= 178.359\\ngini = 0.5\\nsamples = 2\\nvalue = [1, 1]'),\n",
       " Text(0.9464285714285714, 0.08333333333333333, 'gini = 0.0\\nsamples = 1\\nvalue = [1, 0]'),\n",
       " Text(0.9821428571428571, 0.08333333333333333, 'gini = 0.0\\nsamples = 1\\nvalue = [0, 1]'),\n",
       " Text(0.9642857142857143, 0.4166666666666667, 'gini = 0.0\\nsamples = 1\\nvalue = [1, 0]')]"
      ]
     },
     "execution_count": 132,
     "metadata": {},
     "output_type": "execute_result"
    },
    {
     "data": {
      "image/png": "[encoded data removed]",
      "text/plain": [
       "<Figure size 432x288 with 1 Axes>"
      ]
     },
     "metadata": {
      "needs_background": "light"
     },
     "output_type": "display_data"
    }
   ],
   "source": [
    "tree.plot_tree(dtree,feature_names=features)"
   ]
  },
  {
   "cell_type": "code",
   "execution_count": 133,
   "metadata": {},
   "outputs": [
    {
     "name": "stdout",
     "output_type": "stream",
     "text": [
      "Accuracy score: 77.5092936802974\n",
      "Recall Score: 51.98019801980198\n",
      "Precision score: 81.3953488372093\n"
     ]
    },
    {
     "data": {
      "image/png": "[encoded data removed]",
      "text/plain": [
       "<Figure size 432x288 with 2 Axes>"
      ]
     },
     "metadata": {
      "needs_background": "light"
     },
     "output_type": "display_data"
    }
   ],
   "source": [
    "#### Confusion matrix for training data\n",
    "y_pred = dtree.predict(x_train)\n",
    "metrics.ConfusionMatrixDisplay.from_predictions(y_train,y_pred)\n",
    "print(f\"Accuracy score: {100*metrics.accuracy_score(y_train,y_pred)}\")\n",
    "print(f\"Recall Score: {100*metrics.recall_score(y_train,y_pred)}\")\n",
    "print(f\"Precision score: {100*metrics.precision_score(y_train,y_pred)}\")"
   ]
  },
  {
   "cell_type": "code",
   "execution_count": 134,
   "metadata": {},
   "outputs": [
    {
     "name": "stdout",
     "output_type": "stream",
     "text": [
      "Accuracy score: 80.0\n",
      "Recall Score: 51.515151515151516\n",
      "Precision score: 70.83333333333334\n"
     ]
    },
    {
     "data": {
      "image/png": "[encoded data removed]",
      "text/plain": [
       "<Figure size 432x288 with 2 Axes>"
      ]
     },
     "metadata": {
      "needs_background": "light"
     },
     "output_type": "display_data"
    }
   ],
   "source": [
    "#### Confusion matrix for test data\n",
    "y_pred = dtree.predict(x_test)\n",
    "metrics.ConfusionMatrixDisplay.from_predictions(y_test,y_pred)\n",
    "print(f\"Accuracy score: {100*metrics.accuracy_score(y_test,y_pred)}\")\n",
    "print(f\"Recall Score: {100*metrics.recall_score(y_test,y_pred)}\")\n",
    "print(f\"Precision score: {100*metrics.precision_score(y_test,y_pred)}\")"
   ]
  }
 ],
 "metadata": {
  "kernelspec": {
   "display_name": "base",
   "language": "python",
   "name": "python3"
  },
  "language_info": {
   "codemirror_mode": {
    "name": "ipython",
    "version": 3
   },
   "file_extension": ".py",
   "mimetype": "text/x-python",
   "name": "python",
   "nbconvert_exporter": "python",
   "pygments_lexer": "ipython3",
   "version": "3.8.8"
  },
  "orig_nbformat": 4
 },
 "nbformat": 4,
 "nbformat_minor": 2
}
